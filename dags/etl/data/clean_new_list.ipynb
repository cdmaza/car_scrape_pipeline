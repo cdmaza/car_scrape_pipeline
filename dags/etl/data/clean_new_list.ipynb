{
 "cells": [
  {
   "cell_type": "code",
   "execution_count": 1,
   "metadata": {},
   "outputs": [],
   "source": [
    "import pandas as pd\n",
    "import os\n",
    "import re"
   ]
  },
  {
   "cell_type": "code",
   "execution_count": 2,
   "metadata": {},
   "outputs": [],
   "source": [
    "file_path = \"c:/Users/User/Desktop/Project/data_project/car_scrape_pipeline/dags/etl/data/raw/new_list.csv\"\n",
    "columns_keyword = [\"year_produce\", \"brand\", \"model\",\"car_type\", \"gear_type\", \"engine_cap\",\"mileage\", \"price\"]"
   ]
  },
  {
   "cell_type": "code",
   "execution_count": 3,
   "metadata": {},
   "outputs": [],
   "source": [
    "try:\n",
    "    if not os.path.exists(file_path):\n",
    "        raise FileNotFoundError(f\"File {file_path} does not exist.\")\n",
    "    \n",
    "    if file_path.endswith('.csv'):\n",
    "        data = pd.read_csv(file_path, encoding='ISO-8859-1')\n",
    "    elif file_path.endswith('.json'):\n",
    "        data = pd.read_json(file_path)\n",
    "    else:\n",
    "        raise ValueError(\"Unsupported file format. Please provide a CSV or JSON file.\")\n",
    "\n",
    "    df = data\n",
    "\n",
    "except FileNotFoundError as e:\n",
    "    print(e)\n",
    "except Exception as e:\n",
    "    print(f\"An error occurred: {e}\")"
   ]
  },
  {
   "cell_type": "code",
   "execution_count": 4,
   "metadata": {},
   "outputs": [],
   "source": [
    "df.rename(columns={'flex2': 'year_produce'}, inplace=True)"
   ]
  },
  {
   "cell_type": "code",
   "execution_count": 5,
   "metadata": {},
   "outputs": [],
   "source": [
    "for col in df.columns:\n",
    "    if 'Title1' in col:\n",
    "        for index, row in df.iterrows():\n",
    "            split_string = str(row[\"Title1\"]).split(' ')\n",
    "            df.at[index, 'brand'] = split_string[0]\n",
    "            df.at[index, 'model'] = split_string[1].title()         "
   ]
  },
  {
   "cell_type": "code",
   "execution_count": 6,
   "metadata": {},
   "outputs": [],
   "source": [
    "df.rename(columns={'flex': 'car_type'}, inplace=True)\n",
    "df[\"gear_type\"] = \"Automatic\""
   ]
  },
  {
   "cell_type": "code",
   "execution_count": 7,
   "metadata": {},
   "outputs": [],
   "source": [
    "for col in df.columns:\n",
    "    if 'flex3' in col.lower():\n",
    "\n",
    "        for index, row in df.iterrows():\n",
    "            numbers = re.findall(r'\\d+(?:,\\d+)*(?:\\.\\d+)?', row[\"flex3\"])\n",
    "            if numbers: \n",
    "                value = float(numbers[0])\n",
    "                df.at[index, 'engine_cap'] = [round(value / 1000, 1) if value > 100 else round(value)]\n"
   ]
  },
  {
   "cell_type": "code",
   "execution_count": 8,
   "metadata": {},
   "outputs": [],
   "source": [
    "for col in df.columns:\n",
    "    if 'flex1' in col:\n",
    "\n",
    "        for index, row in df.iterrows():\n",
    "            numbers = re.findall(r'\\d+(?:,\\d+)*(?:\\.\\d+)?', row[\"flex1\"])\n",
    "            if numbers:  \n",
    "                numbers = [float(n.replace(\",\", \"\")) for n in numbers]\n",
    "\n",
    "                if len(numbers) > 1:\n",
    "                    avg_number = sum(numbers) / len(numbers)\n",
    "                else:\n",
    "                    avg_number = numbers[0]\n",
    "\n",
    "                df.at[index, 'mileage'] = avg_number\n",
    "            else:\n",
    "                df.at[index, 'mileage'] = None"
   ]
  },
  {
   "cell_type": "code",
   "execution_count": 9,
   "metadata": {},
   "outputs": [],
   "source": [
    "df['textsm'].fillna('0', inplace=True)\n",
    "\n",
    "for col in df.columns:\n",
    "    if 'textsm' in col.lower():    \n",
    "        \n",
    "        for index, row in df.iterrows():\n",
    "            numbers = re.findall(r'\\d+(?:,\\d+)*(?:\\.\\d+)?', row['textsm'])\n",
    "            if numbers:\n",
    "                df.at[index, 'old_price'] = float(numbers[0].replace(',', ''))\n",
    "            else:  \n",
    "                df.at[index, 'old_price'] = 0"
   ]
  },
  {
   "cell_type": "code",
   "execution_count": 10,
   "metadata": {},
   "outputs": [],
   "source": [
    "df = df[[\"year_produce\", \"brand\", \"model\",\"car_type\", \"gear_type\", \"engine_cap\",\"mileage\", \"old_price\"]]\n",
    "    \n",
    "base_name = os.path.basename(file_path)\n",
    "name, ext = os.path.splitext(base_name)\n",
    "new_file_name = f\"{name}_clean{ext}\"\n",
    "df.to_csv(f'{new_file_name}')"
   ]
  }
 ],
 "metadata": {
  "kernelspec": {
   "display_name": "Python 3",
   "language": "python",
   "name": "python3"
  },
  "language_info": {
   "codemirror_mode": {
    "name": "ipython",
    "version": 3
   },
   "file_extension": ".py",
   "mimetype": "text/x-python",
   "name": "python",
   "nbconvert_exporter": "python",
   "pygments_lexer": "ipython3",
   "version": "3.8.7"
  }
 },
 "nbformat": 4,
 "nbformat_minor": 2
}
