{
 "cells": [
  {
   "cell_type": "code",
   "execution_count": 1,
   "metadata": {},
   "outputs": [],
   "source": [
    "import pandas as pd\n",
    "import os\n",
    "import re"
   ]
  },
  {
   "cell_type": "code",
   "execution_count": 2,
   "metadata": {},
   "outputs": [],
   "source": [
    "file_path = \"c:/Users/User/Desktop/Project/data project/car_scrape_pipeline/dags/etl/data/raw/resale_car.csv\"\n",
    "columns_keyword = [\"year_produce\", \"brand\", \"model\",\"car_type\", \"gear_type\", \"engine_cap\",\"mileage\", \"price\"]"
   ]
  },
  {
   "cell_type": "code",
   "execution_count": 3,
   "metadata": {},
   "outputs": [],
   "source": [
    "try:\n",
    "    if not os.path.exists(file_path):\n",
    "        raise FileNotFoundError(f\"File {file_path} does not exist.\")\n",
    "    \n",
    "    if file_path.endswith('.csv'):\n",
    "        data = pd.read_csv(file_path, encoding='ISO-8859-1')\n",
    "    elif file_path.endswith('.json'):\n",
    "        data = pd.read_json(file_path)\n",
    "    else:\n",
    "        raise ValueError(\"Unsupported file format. Please provide a CSV or JSON file.\")\n",
    "\n",
    "    df = data\n",
    "\n",
    "except FileNotFoundError as e:\n",
    "    print(e)\n",
    "except Exception as e:\n",
    "    print(f\"An error occurred: {e}\")"
   ]
  },
  {
   "cell_type": "code",
   "execution_count": 4,
   "metadata": {},
   "outputs": [],
   "source": [
    "df_cleaned = df.copy()\n",
    "def get_year(datas):\n",
    "    for index, row in datas.iterrows():\n",
    "        first_string = row[\"Description\"].split(' ')[0]\n",
    "        datas.at[index, 'Description'] = row[\"Description\"].replace(first_string + ' ', '', 1)\n",
    "        datas.at[index, 'year_produce'] = first_string\n",
    "\n",
    "    return datas\n",
    "\n",
    "for col in df_cleaned.columns:\n",
    "    if 'description' in col.lower():\n",
    "        df_cleaned = get_year(df_cleaned)\n"
   ]
  },
  {
   "cell_type": "code",
   "execution_count": 5,
   "metadata": {},
   "outputs": [],
   "source": [
    "def get_brand(datas):\n",
    "\n",
    "    datas.replace('N/A', None, inplace=True)\n",
    "\n",
    "    for index, row in datas.iterrows():\n",
    "        if row[\"Model\"] is None:\n",
    "            continue\n",
    "        split_string = str(row[\"Model\"]).split(' ')\n",
    "        datas.at[index, 'brand'] = split_string[0]\n",
    "        datas.at[index, 'Model'] = \" \".join(split_string[1:])\n",
    "    \n",
    "    return datas\n",
    "\n",
    "for col in df_cleaned.columns:\n",
    "    if 'model' in col.lower():\n",
    "        df_cleaned = get_brand(df_cleaned)"
   ]
  },
  {
   "cell_type": "code",
   "execution_count": 6,
   "metadata": {},
   "outputs": [],
   "source": [
    "df_cleaned[\"car_type\"] = \"used\""
   ]
  },
  {
   "cell_type": "code",
   "execution_count": 7,
   "metadata": {},
   "outputs": [],
   "source": [
    "def get_cap(datas):\n",
    "\n",
    "    for index, row in datas.iterrows():\n",
    "\n",
    "        cap_match = re.search(r'\\b\\d+\\.\\d\\b', row[\"Description\"])\n",
    "        if cap_match:\n",
    "            datas.at[index, 'engine_cap'] = cap_match.group(0)\n",
    "        else:\n",
    "            datas.at[index, 'engine_cap'] = \"0.0\"\n",
    "\n",
    "    return datas\n",
    "\n",
    "for col in df_cleaned.columns:\n",
    "    if 'description' in col.lower():\n",
    "        df_cleaned = get_cap(df_cleaned)"
   ]
  },
  {
   "cell_type": "code",
   "execution_count": 8,
   "metadata": {},
   "outputs": [],
   "source": [
    "def get_mileage(datas):\n",
    "    for index, row in datas.iterrows():\n",
    "        numbers = re.findall(r'\\d+(?:,\\d+)*(?:\\.\\d+)?', row[\"Milleage\"])\n",
    "        \n",
    "        if numbers:  \n",
    "            numbers = [float(n.replace(\",\", \"\")) for n in numbers]\n",
    "\n",
    "            if len(numbers) > 1:\n",
    "                avg_number = sum(numbers) / len(numbers)\n",
    "            else:\n",
    "                avg_number = numbers[0]\n",
    "\n",
    "            if re.search(r'\\d+K', row[\"Milleage\"]):\n",
    "                avg_number *= 1000\n",
    "\n",
    "            datas.at[index, 'mileage'] = avg_number\n",
    "        else:\n",
    "            datas.at[index, 'mileage'] = None\n",
    "\n",
    "    return datas\n",
    "\n",
    "for col in df_cleaned.columns:\n",
    "    if 'milleage' in col.lower():\n",
    "        df_cleaned = get_mileage(df_cleaned)\n"
   ]
  },
  {
   "cell_type": "code",
   "execution_count": 9,
   "metadata": {},
   "outputs": [],
   "source": [
    "def get_price(datas):\n",
    "    for index, row in datas.iterrows():\n",
    "        if pd.isna(row[\"List_Price\"]):\n",
    "            numbers = re.findall(r'\\d+(?:,\\d+)*(?:\\.\\d+)?', row['Monthly_Installment'])\n",
    "            if numbers:  \n",
    "                datas.at[index, 'old_price'] = float(numbers[0].replace(',', '')) * 77\n",
    "            else:\n",
    "                datas.at[index, 'old_price'] = None\n",
    "        else:\n",
    "            numbers = re.findall(r'\\d+(?:,\\d+)*(?:\\.\\d+)?', row['List_Price'])\n",
    "            if numbers:  \n",
    "                datas.at[index, 'old_price'] = float(numbers[0].replace(',', ''))\n",
    "            else:\n",
    "                datas.at[index, 'old_price'] = None\n",
    "\n",
    "    return datas\n",
    "\n",
    "df_cleaned = get_price(df_cleaned)"
   ]
  },
  {
   "cell_type": "code",
   "execution_count": null,
   "metadata": {},
   "outputs": [],
   "source": [
    "df_cleaned.columns = df_cleaned.columns.str.lower()\n",
    "\n",
    "df = df_cleaned[[\"year_produce\", \"brand\", \"model\",\"car_type\", \"gear_type\", \"engine_cap\",\"mileage\", \"old_price\"]]\n",
    "    \n",
    "base_name = os.path.basename(file_path)\n",
    "name, ext = os.path.splitext(base_name)\n",
    "new_file_name = f\"old_{name}_clean{ext}\"\n",
    "df.to_csv(f'{new_file_name}')"
   ]
  }
 ],
 "metadata": {
  "kernelspec": {
   "display_name": "Python 3",
   "language": "python",
   "name": "python3"
  },
  "language_info": {
   "codemirror_mode": {
    "name": "ipython",
    "version": 3
   },
   "file_extension": ".py",
   "mimetype": "text/x-python",
   "name": "python",
   "nbconvert_exporter": "python",
   "pygments_lexer": "ipython3",
   "version": "3.9.12"
  }
 },
 "nbformat": 4,
 "nbformat_minor": 2
}
