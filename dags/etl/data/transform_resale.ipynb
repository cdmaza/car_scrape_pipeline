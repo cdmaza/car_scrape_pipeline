{
 "cells": [
  {
   "cell_type": "code",
   "execution_count": 5,
   "metadata": {},
   "outputs": [],
   "source": [
    "import pandas as pd\n",
    "import os\n",
    "import re"
   ]
  },
  {
   "cell_type": "code",
   "execution_count": 2,
   "metadata": {},
   "outputs": [],
   "source": [
    "file_path = \"c:/Users/User/Desktop/Project/data project/car_scrape_pipeline/dags/etl/data/raw/resale_car.csv\"\n",
    "columns_keyword = [\"year_produce\", \"brand\", \"model\",\"car_type\", \"gear_type\", \"engine_cap\",\"mileage\", \"price\"]"
   ]
  },
  {
   "cell_type": "code",
   "execution_count": 3,
   "metadata": {},
   "outputs": [],
   "source": [
    "try:\n",
    "    if not os.path.exists(file_path):\n",
    "        raise FileNotFoundError(f\"File {file_path} does not exist.\")\n",
    "    \n",
    "    if file_path.endswith('.csv'):\n",
    "        data = pd.read_csv(file_path, encoding='ISO-8859-1')\n",
    "    elif file_path.endswith('.json'):\n",
    "        data = pd.read_json(file_path)\n",
    "    else:\n",
    "        raise ValueError(\"Unsupported file format. Please provide a CSV or JSON file.\")\n",
    "\n",
    "    df = data\n",
    "\n",
    "except FileNotFoundError as e:\n",
    "    print(e)\n",
    "except Exception as e:\n",
    "    print(f\"An error occurred: {e}\")"
   ]
  },
  {
   "cell_type": "code",
   "execution_count": 6,
   "metadata": {},
   "outputs": [
    {
     "name": "stdout",
     "output_type": "stream",
     "text": [
      "Description            object\n",
      "Monthly_Installment    object\n",
      "List_Price             object\n",
      "Model                  object\n",
      "Milleage               object\n",
      "Gear_Type              object\n",
      "Location               object\n",
      "year_produce           object\n",
      "dtype: object\n"
     ]
    },
    {
     "ename": "TypeError",
     "evalue": "expected string or bytes-like object",
     "output_type": "error",
     "traceback": [
      "\u001b[1;31m---------------------------------------------------------------------------\u001b[0m",
      "\u001b[1;31mTypeError\u001b[0m                                 Traceback (most recent call last)",
      "\u001b[1;32m<ipython-input-6-742c3c3db9fc>\u001b[0m in \u001b[0;36m<module>\u001b[1;34m\u001b[0m\n\u001b[0;32m     70\u001b[0m \u001b[1;32mfor\u001b[0m \u001b[0mcol\u001b[0m \u001b[1;32min\u001b[0m \u001b[0mdf_cleaned\u001b[0m\u001b[1;33m.\u001b[0m\u001b[0mcolumns\u001b[0m\u001b[1;33m:\u001b[0m\u001b[1;33m\u001b[0m\u001b[1;33m\u001b[0m\u001b[0m\n\u001b[0;32m     71\u001b[0m     \u001b[1;32mif\u001b[0m \u001b[1;34m'model'\u001b[0m \u001b[1;32min\u001b[0m \u001b[0mcol\u001b[0m\u001b[1;33m.\u001b[0m\u001b[0mlower\u001b[0m\u001b[1;33m(\u001b[0m\u001b[1;33m)\u001b[0m\u001b[1;33m:\u001b[0m\u001b[1;33m\u001b[0m\u001b[1;33m\u001b[0m\u001b[0m\n\u001b[1;32m---> 72\u001b[1;33m         \u001b[0mdf_cleaned\u001b[0m \u001b[1;33m=\u001b[0m \u001b[0mget_brand\u001b[0m\u001b[1;33m(\u001b[0m\u001b[0mdf_cleaned\u001b[0m\u001b[1;33m)\u001b[0m\u001b[1;33m\u001b[0m\u001b[1;33m\u001b[0m\u001b[0m\n\u001b[0m\u001b[0;32m     73\u001b[0m \u001b[1;33m\u001b[0m\u001b[0m\n\u001b[0;32m     74\u001b[0m \u001b[0mprint\u001b[0m\u001b[1;33m(\u001b[0m\u001b[1;34m\"done2\"\u001b[0m\u001b[1;33m)\u001b[0m\u001b[1;33m\u001b[0m\u001b[1;33m\u001b[0m\u001b[0m\n",
      "\u001b[1;32m<ipython-input-6-742c3c3db9fc>\u001b[0m in \u001b[0;36mget_brand\u001b[1;34m(datas)\u001b[0m\n\u001b[0;32m      9\u001b[0m \u001b[1;32mdef\u001b[0m \u001b[0mget_brand\u001b[0m\u001b[1;33m(\u001b[0m\u001b[0mdatas\u001b[0m\u001b[1;33m)\u001b[0m\u001b[1;33m:\u001b[0m\u001b[1;33m\u001b[0m\u001b[1;33m\u001b[0m\u001b[0m\n\u001b[0;32m     10\u001b[0m     \u001b[1;32mfor\u001b[0m \u001b[0mindex\u001b[0m\u001b[1;33m,\u001b[0m \u001b[0mrow\u001b[0m \u001b[1;32min\u001b[0m \u001b[0mdatas\u001b[0m\u001b[1;33m.\u001b[0m\u001b[0miterrows\u001b[0m\u001b[1;33m(\u001b[0m\u001b[1;33m)\u001b[0m\u001b[1;33m:\u001b[0m\u001b[1;33m\u001b[0m\u001b[1;33m\u001b[0m\u001b[0m\n\u001b[1;32m---> 11\u001b[1;33m         \u001b[1;32mif\u001b[0m \u001b[0mre\u001b[0m\u001b[1;33m.\u001b[0m\u001b[0msearch\u001b[0m\u001b[1;33m(\u001b[0m\u001b[1;34m\"N/A\"\u001b[0m\u001b[1;33m,\u001b[0m \u001b[0mrow\u001b[0m\u001b[1;33m[\u001b[0m\u001b[1;34m\"Model\"\u001b[0m\u001b[1;33m]\u001b[0m\u001b[1;33m,\u001b[0m \u001b[0mflags\u001b[0m\u001b[1;33m=\u001b[0m\u001b[0mre\u001b[0m\u001b[1;33m.\u001b[0m\u001b[0mIGNORECASE\u001b[0m\u001b[1;33m)\u001b[0m\u001b[1;33m:\u001b[0m\u001b[1;33m\u001b[0m\u001b[1;33m\u001b[0m\u001b[0m\n\u001b[0m\u001b[0;32m     12\u001b[0m             \u001b[1;32mcontinue\u001b[0m\u001b[1;33m\u001b[0m\u001b[1;33m\u001b[0m\u001b[0m\n\u001b[0;32m     13\u001b[0m         \u001b[0mfirst_string\u001b[0m \u001b[1;33m=\u001b[0m \u001b[0mrow\u001b[0m\u001b[1;33m[\u001b[0m\u001b[1;34m\"Model\"\u001b[0m\u001b[1;33m]\u001b[0m\u001b[1;33m.\u001b[0m\u001b[0msplit\u001b[0m\u001b[1;33m(\u001b[0m\u001b[1;34m' '\u001b[0m\u001b[1;33m)\u001b[0m\u001b[1;33m[\u001b[0m\u001b[1;36m0\u001b[0m\u001b[1;33m]\u001b[0m\u001b[1;33m\u001b[0m\u001b[1;33m\u001b[0m\u001b[0m\n",
      "\u001b[1;32mc:\\Users\\User\\AppData\\Local\\Programs\\Python\\Python39\\lib\\re.py\u001b[0m in \u001b[0;36msearch\u001b[1;34m(pattern, string, flags)\u001b[0m\n\u001b[0;32m    199\u001b[0m     \"\"\"Scan through string looking for a match to the pattern, returning\n\u001b[0;32m    200\u001b[0m     a Match object, or None if no match was found.\"\"\"\n\u001b[1;32m--> 201\u001b[1;33m     \u001b[1;32mreturn\u001b[0m \u001b[0m_compile\u001b[0m\u001b[1;33m(\u001b[0m\u001b[0mpattern\u001b[0m\u001b[1;33m,\u001b[0m \u001b[0mflags\u001b[0m\u001b[1;33m)\u001b[0m\u001b[1;33m.\u001b[0m\u001b[0msearch\u001b[0m\u001b[1;33m(\u001b[0m\u001b[0mstring\u001b[0m\u001b[1;33m)\u001b[0m\u001b[1;33m\u001b[0m\u001b[1;33m\u001b[0m\u001b[0m\n\u001b[0m\u001b[0;32m    202\u001b[0m \u001b[1;33m\u001b[0m\u001b[0m\n\u001b[0;32m    203\u001b[0m \u001b[1;32mdef\u001b[0m \u001b[0msub\u001b[0m\u001b[1;33m(\u001b[0m\u001b[0mpattern\u001b[0m\u001b[1;33m,\u001b[0m \u001b[0mrepl\u001b[0m\u001b[1;33m,\u001b[0m \u001b[0mstring\u001b[0m\u001b[1;33m,\u001b[0m \u001b[0mcount\u001b[0m\u001b[1;33m=\u001b[0m\u001b[1;36m0\u001b[0m\u001b[1;33m,\u001b[0m \u001b[0mflags\u001b[0m\u001b[1;33m=\u001b[0m\u001b[1;36m0\u001b[0m\u001b[1;33m)\u001b[0m\u001b[1;33m:\u001b[0m\u001b[1;33m\u001b[0m\u001b[1;33m\u001b[0m\u001b[0m\n",
      "\u001b[1;31mTypeError\u001b[0m: expected string or bytes-like object"
     ]
    }
   ],
   "source": [
    "def get_year(datas):\n",
    "    for index, row in datas.iterrows():\n",
    "        first_string = row[\"Description\"].split(' ')[0]\n",
    "        datas.at[index, 'Description'] = row[\"Description\"].replace(first_string + ' ', '', 1)\n",
    "        datas.at[index, 'year_produce'] = first_string\n",
    "\n",
    "    return datas\n",
    "\n",
    "def get_brand(datas):\n",
    "    for index, row in datas.iterrows():\n",
    "        if re.search(\"N/A\", row[\"Model\"], flags=re.IGNORECASE):\n",
    "            continue\n",
    "        first_string = row[\"Model\"].split(' ')[0]\n",
    "        datas.at[index, 'Model'] = row[\"Model\"].replace(first_string + ' ', '', 1)\n",
    "        datas.at[index, 'brand'] = first_string\n",
    "    \n",
    "    return datas\n",
    "\n",
    "def get_model(datas):\n",
    "\n",
    "    temp = datas[\"description\"].split(' ')[0]\n",
    "    datas[\"description\"] = datas[\"description\"].replace(temp + ' ', '', 1)\n",
    "\n",
    "    return temp\n",
    "\n",
    "def get_cap(datas):\n",
    "\n",
    "    cap_match = re.search(r'\\b\\d+\\.\\d\\b', datas[\"description\"])\n",
    "    if cap_match:\n",
    "        temp = cap_match.group(0)\n",
    "        datas[\"description\"] = datas[\"description\"].replace(temp, '', 1).strip()\n",
    "    else:\n",
    "        temp = \"0.0\"\n",
    "\n",
    "    return temp\n",
    "        \n",
    "def get_mileage(datas):\n",
    "\n",
    "    mileage_match = re.search(r'\\d+K', datas[\"mileage\"])\n",
    "    if mileage_match:\n",
    "        datas[\"mileage\"] = mileage_match.group(0).replace(\"K\", \"000\")\n",
    "    else:\n",
    "        datas[\"mileage\"] = \"0\"\n",
    "\n",
    "    # datas[\"description\"] = re.sub(r'\\d+K KM', '', datas[\"description\"], 1).strip()\n",
    "\n",
    "    return datas\n",
    "\n",
    "def get_price(datas):\n",
    "\n",
    "    datas[\"list_price\"] = datas[\"list_price\"].replace(\"N/A\", \"0\")\n",
    "    \n",
    "    for index, row in datas[datas['list_price'] == \"0\"].iterrows():\n",
    "        datas.at[index, 'list_price'] = row['monthly_installment']\n",
    "\n",
    "    datas = datas.str.replace(r'[^0-9]', '', regex=True)\n",
    "    \n",
    "    return datas[\"list_price\"]\n",
    "\n",
    "\n",
    "#Correcting invalid, inconsistent, or irrelevant data\n",
    "df_cleaned = df.copy()\n",
    "\n",
    "for col in df_cleaned.columns:\n",
    "    if 'description' in col.lower():\n",
    "        df_cleaned = get_year(df_cleaned)\n",
    "\n",
    "print(df_cleaned.dtypes)\n",
    "\n",
    "for col in df_cleaned.columns:\n",
    "    if 'model' in col.lower():\n",
    "        df_cleaned = get_brand(df_cleaned)\n",
    "\n",
    "print(\"done2\")\n",
    "df_cleaned[\"car_type\"] = \"used\"\n",
    "\n",
    "if re.search(r'desc', df_cleaned.columns, flags=re.IGNORECASE):\n",
    "    df_cleaned[\"engine_cap\"] = df_cleaned.apply(get_cap)\n",
    "\n",
    "if re.search(r'mileage', df_cleaned.columns, flags=re.IGNORECASE):\n",
    "    df_cleaned[\"mileage\"] = df_cleaned.apply(get_mileage)\n",
    "\n",
    "if re.search(r'list_price', df_cleaned.columns, flags=re.IGNORECASE):\n",
    "    df_cleaned[\"old_price\"] = get_price(df_cleaned)\n",
    "\n",
    "#Resolving formatting issues\n",
    "\n",
    "#handle missing values (mean, median, mode, drop, estimate)\n",
    "if re.search(r'desc', df_cleaned.columns, flags=re.IGNORECASE):\n",
    "    df_cleaned[\"model\"] = df_cleaned.apply(get_model, axis=1)\n",
    "\n",
    "#remove duplicate\n",
    "df_cleaned = df.drop_duplicates()\n",
    "\n",
    "print(df_cleaned.dtypes)"
   ]
  },
  {
   "cell_type": "code",
   "execution_count": 4,
   "metadata": {},
   "outputs": [
    {
     "name": "stdout",
     "output_type": "stream",
     "text": [
      "Description            object\n",
      "Monthly_Installment    object\n",
      "List_Price             object\n",
      "Model                  object\n",
      "Milleage               object\n",
      "Gear_Type              object\n",
      "Location               object\n",
      "dtype: object\n"
     ]
    }
   ],
   "source": [
    "print(df.dtypes)"
   ]
  }
 ],
 "metadata": {
  "kernelspec": {
   "display_name": "Python 3",
   "language": "python",
   "name": "python3"
  },
  "language_info": {
   "codemirror_mode": {
    "name": "ipython",
    "version": 3
   },
   "file_extension": ".py",
   "mimetype": "text/x-python",
   "name": "python",
   "nbconvert_exporter": "python",
   "pygments_lexer": "ipython3",
   "version": "3.9.12"
  }
 },
 "nbformat": 4,
 "nbformat_minor": 2
}
