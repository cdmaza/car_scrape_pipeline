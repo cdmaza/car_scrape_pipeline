{
 "cells": [
  {
   "cell_type": "code",
   "execution_count": 1,
   "metadata": {},
   "outputs": [],
   "source": [
    "import pandas as pd\n",
    "import os"
   ]
  },
  {
   "cell_type": "code",
   "execution_count": 2,
   "metadata": {},
   "outputs": [],
   "source": [
    "file_path = \"c:/Users/User/Desktop/Project/data_project/car_scrape_pipeline/dags/etl/data/raw/list.csv\"\n",
    "columns_keyword = [\"year_produce\", \"brand\", \"model\",\"car_type\", \"gear_type\", \"engine_cap\",\"mileage\", \"price\"]"
   ]
  },
  {
   "cell_type": "code",
   "execution_count": 3,
   "metadata": {},
   "outputs": [],
   "source": [
    "try:\n",
    "    if not os.path.exists(file_path):\n",
    "        raise FileNotFoundError(f\"File {file_path} does not exist.\")\n",
    "    \n",
    "    if file_path.endswith('.csv'):\n",
    "        data = pd.read_csv(file_path, encoding='ISO-8859-1')\n",
    "    elif file_path.endswith('.json'):\n",
    "        data = pd.read_json(file_path)\n",
    "    else:\n",
    "        raise ValueError(\"Unsupported file format. Please provide a CSV or JSON file.\")\n",
    "\n",
    "    df = data\n",
    "\n",
    "except FileNotFoundError as e:\n",
    "    print(e)\n",
    "except Exception as e:\n",
    "    print(f\"An error occurred: {e}\")"
   ]
  },
  {
   "cell_type": "code",
   "execution_count": 4,
   "metadata": {},
   "outputs": [],
   "source": [
    "#remove duplicate\n",
    "df_cleaned = df.drop_duplicates()\n",
    "\n",
    "#Correcting invalid, inconsistent, or irrelevant data\n",
    "for col in df_cleaned.columns:\n",
    "    if 'make' in col.lower():\n",
    "        df_cleaned = df_cleaned.rename(columns={\"Make\": \"brand\"})\n",
    "\n",
    "for col in df_cleaned.columns:\n",
    "    if 'car.type' in col.lower():\n",
    "        df_cleaned[\"Car.Type\"] = df_cleaned[\"Car.Type\"].str.replace('Car', '')\n",
    "        df_cleaned = df_cleaned.rename(columns={\"Car.Type\": \"car_type\"})\n",
    "\n",
    "for col in df_cleaned.columns:\n",
    "    if 'transm' in col.lower():   \n",
    "        df_cleaned = df_cleaned.rename(columns={\"Transm\": \"gear_type\"})\n",
    "\n",
    "for col in df_cleaned.columns:\n",
    "    if 'engine.cap' in col.lower():\n",
    "        df_cleaned[\"Engine.Cap\"] = df_cleaned[\"Engine.Cap\"].str.replace('-', '0')\n",
    "        df_cleaned[\"Engine.Cap\"] = df_cleaned[\"Engine.Cap\"].str.replace('cc', '')\n",
    "        df_cleaned[\"Engine.Cap\"] = df_cleaned[\"Engine.Cap\"].astype(float)\n",
    "        df_cleaned = df_cleaned.rename(columns={\"Engine.Cap\": \"engine_cap\"})\n",
    "        for index, row in df_cleaned.iterrows():\n",
    "            value = float(row['engine_cap'])\n",
    "            df_cleaned.at[index, 'engine_cap'] = [round(value / 1000, 1) if value > 100 else round(value)]\n",
    "\n",
    "\n",
    "for col in df_cleaned.columns:\n",
    "    if 'mileage' in col.lower():\n",
    "        df_cleaned[\"Mileage\"] = df_cleaned[\"Mileage\"].fillna(0).astype(int)\n",
    "        df_cleaned = df_cleaned.rename(columns={\"Mileage\": \"mileage\"})\n",
    "        \n",
    "for col in df_cleaned.columns:\n",
    "    if 'price' in col.lower():   \n",
    "        df_cleaned[\"Price\"] = df_cleaned[\"Price\"].astype(float).round(2)\n",
    "        df_cleaned = df_cleaned.rename(columns={\"Price\": \"old_price\"})\n",
    "\n",
    "df_cleaned.columns = df_cleaned.columns.str.lower()\n",
    "\n",
    "#handle missing values (mean, median, mode, drop, estimate)\n",
    "for index, row in df_cleaned[df_cleaned['engine_cap'] == 0].iterrows():\n",
    "    model = row['model']\n",
    "    year_produce = row['year']\n",
    "    matching_row = df_cleaned[(df_cleaned['model'] == model) & (df_cleaned['year'] == year_produce) & (df_cleaned['engine_cap'] != 0)]\n",
    "    if not matching_row.empty:\n",
    "        df_cleaned.at[index, 'engine_cap'] = matching_row['engine_cap'].values[0]\n",
    "\n",
    "for col in df_cleaned.columns:\n",
    "    if 'year' in col.lower():\n",
    "        df_cleaned = df_cleaned.rename(columns={\"year\": \"year_produce\"})\n"
   ]
  },
  {
   "cell_type": "code",
   "execution_count": 5,
   "metadata": {},
   "outputs": [],
   "source": [
    "df = df_cleaned[[\"year_produce\", \"brand\", \"model\",\"car_type\", \"gear_type\", \"engine_cap\",\"mileage\", \"old_price\"]]\n",
    "    \n",
    "base_name = os.path.basename(file_path)\n",
    "name, ext = os.path.splitext(base_name)\n",
    "new_file_name = f\"old_{name}_clean{ext}\"\n",
    "df.to_csv(f'{new_file_name}')"
   ]
  }
 ],
 "metadata": {
  "kernelspec": {
   "display_name": "Python 3",
   "language": "python",
   "name": "python3"
  },
  "language_info": {
   "codemirror_mode": {
    "name": "ipython",
    "version": 3
   },
   "file_extension": ".py",
   "mimetype": "text/x-python",
   "name": "python",
   "nbconvert_exporter": "python",
   "pygments_lexer": "ipython3",
   "version": "3.8.7"
  }
 },
 "nbformat": 4,
 "nbformat_minor": 2
}
